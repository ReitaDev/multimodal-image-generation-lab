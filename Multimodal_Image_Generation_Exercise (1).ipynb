{
 "cells": [
  {
   "cell_type": "markdown",
   "id": "f24e2b78",
   "metadata": {},
   "source": [
    "# Multimodal Image Generation with Diffusion Models\n",
    "\n",
    "In this notebook, you'll explore how multimodal image generation works using a text-to-image pipeline powered by diffusion models. You'll interact with a pre-trained model and reflect on how prompts shape outputs.\n",
    "\n",
    "### **Learning Objectives**\n",
    "By the end of this notebook, you will:\n",
    "- Understand the concept of multimodal learning and diffusion-based image generation.\n",
    "- Generate images using Stable Diffusion with Hugging Face’s `diffusers` library.\n",
    "- Reflect on how prompts and model parameters influence the generated outputs.\n"
   ]
  },
  {
   "cell_type": "code",
   "execution_count": null,
   "id": "344e01b9",
   "metadata": {},
   "outputs": [],
   "source": [
    "# Install required libraries\n",
    "!pip install diffusers transformers accelerate scipy --quiet"
   ]
  },
  {
   "cell_type": "code",
   "execution_count": null,
   "id": "c490eb4c",
   "metadata": {},
   "outputs": [],
   "source": [
    "from diffusers import StableDiffusionPipeline\n",
    "import torch\n",
    "\n",
    "# Load the model\n",
    "pipe = StableDiffusionPipeline.from_pretrained(\"CompVis/stable-diffusion-v1-4\")\n",
    "pipe = pipe.to(\"cuda\" if torch.cuda.is_available() else \"cpu\")"
   ]
  },
  {
   "cell_type": "code",
   "execution_count": null,
   "id": "6288c481",
   "metadata": {},
   "outputs": [],
   "source": [
    "# Generate an image from a text prompt\n",
    "prompt = \"A futuristic city at sunset with flying cars\"\n",
    "image = pipe(prompt).images[0]\n",
    "image.show()"
   ]
  },
  {
   "cell_type": "code",
   "execution_count": null,
   "id": "c7793a69",
   "metadata": {},
   "outputs": [],
   "source": [
    "# Experiment with guidance_scale to control adherence to the prompt\n",
    "prompt = \"A dragon flying over a medieval castle\"\n",
    "image = pipe(prompt, guidance_scale=7.5).images[0]\n",
    "image.show()"
   ]
  },
  {
   "cell_type": "markdown",
   "id": "ddbb1944",
   "metadata": {},
   "source": [
    "## Reflection Questions\n",
    "\n",
    "1. What is **multimodal learning**, and how is it used in this notebook?\n",
    "2. How does a **text encoder** contribute to image generation?\n",
    "3. What happens when you change the **prompt**? Try both surreal and realistic descriptions.\n",
    "4. What is the effect of modifying `guidance_scale`?\n",
    "5. What are some potential **ethical considerations** when generating synthetic images from text?\n",
    "\n",
    "Take notes in your learning journal or class workspace."
   ]
  },
  {
   "cell_type": "markdown",
   "id": "5d132dd1",
   "metadata": {},
   "source": [
    "## Optional: Try Your Own Prompts\n",
    "\n",
    "Change the prompt in the code cell above to anything you like. Some ideas:\n",
    "- \"A classroom in the year 3000\"\n",
    "- \"An astronaut having coffee on Mars\"\n",
    "- \"A forest made of crystals under a purple sky\"\n",
    "\n",
    "Observe how the model interprets different elements and styles."
   ]
  }
 ],
 "metadata": {},
 "nbformat": 4,
 "nbformat_minor": 5
}
